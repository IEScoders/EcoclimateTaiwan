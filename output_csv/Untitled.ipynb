{
 "cells": [
  {
   "cell_type": "code",
   "execution_count": 1,
   "metadata": {
    "collapsed": true
   },
   "outputs": [],
   "source": [
    "from glob import glob\n",
    "import pandas as pd"
   ]
  },
  {
   "cell_type": "code",
   "execution_count": 24,
   "metadata": {},
   "outputs": [
    {
     "data": {
      "text/plain": [
       "'2017-12'"
      ]
     },
     "execution_count": 24,
     "metadata": {},
     "output_type": "execute_result"
    }
   ],
   "source": [
    "f.split('_')[1].split('/')[1]"
   ]
  },
  {
   "cell_type": "code",
   "execution_count": 30,
   "metadata": {},
   "outputs": [
    {
     "name": "stdout",
     "output_type": "stream",
     "text": [
      "solenopsis_invicta\n"
     ]
    }
   ],
   "source": [
    "file = glob(\"solenopsis_invicta/*\")\n",
    "print(\"solenopsis_invicta\")\n",
    "for i,f in enumerate(file):\n",
    "    date = f.split('_')[1].split('/')[1]\n",
    "    if i == 0:\n",
    "        df = pd.read_csv(f)\n",
    "        df['Time'] = [date] * len(df)\n",
    "    else:\n",
    "        dft = pd.read_csv(f)\n",
    "        dft['Time'] = [date] * len(dft) \n",
    "        df = pd.concat([df,dft])\n",
    "df[df.EI<0].to_csv(\"../error/solenopsis_invicta.csv\")"
   ]
  },
  {
   "cell_type": "code",
   "execution_count": null,
   "metadata": {
    "collapsed": true
   },
   "outputs": [],
   "source": []
  }
 ],
 "metadata": {
  "kernelspec": {
   "display_name": "Python 3",
   "language": "python",
   "name": "python3"
  },
  "language_info": {
   "codemirror_mode": {
    "name": "ipython",
    "version": 3
   },
   "file_extension": ".py",
   "mimetype": "text/x-python",
   "name": "python",
   "nbconvert_exporter": "python",
   "pygments_lexer": "ipython3",
   "version": "3.6.3"
  }
 },
 "nbformat": 4,
 "nbformat_minor": 2
}
