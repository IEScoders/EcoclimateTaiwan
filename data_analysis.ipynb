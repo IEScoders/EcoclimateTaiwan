{
 "cells": [
  {
   "cell_type": "code",
   "execution_count": 236,
   "metadata": {
    "collapsed": true
   },
   "outputs": [],
   "source": [
    "from glob import glob\n",
    "import pandas as pd\n",
    "import matplotlib.pyplot as plt"
   ]
  },
  {
   "cell_type": "code",
   "execution_count": 129,
   "metadata": {
    "collapsed": true
   },
   "outputs": [],
   "source": [
    "sta = pd.read_csv(\"CWB_Stations_171226.csv\")"
   ]
  },
  {
   "cell_type": "code",
   "execution_count": 219,
   "metadata": {},
   "outputs": [],
   "source": [
    "stal = list(sta.id)\n",
    "ignore = []"
   ]
  },
  {
   "cell_type": "code",
   "execution_count": 255,
   "metadata": {},
   "outputs": [
    {
     "data": {
      "text/plain": [
       "Series([], Name: Precp, dtype: object)"
      ]
     },
     "execution_count": 255,
     "metadata": {},
     "output_type": "execute_result"
    }
   ],
   "source": [
    "df_tmp['Precp']"
   ]
  },
  {
   "cell_type": "code",
   "execution_count": 256,
   "metadata": {},
   "outputs": [
    {
     "name": "stdout",
     "output_type": "stream",
     "text": [
      "Checking the data on station 466850\n",
      "Checking the data on station 466880\n",
      "Checking the data on station 466900\n",
      "Checking the data on station 466910\n",
      "Checking the data on station 466920\n",
      "Checking the data on station 466930\n",
      "Checking the data on station 466940\n",
      "Checking the data on station 466950\n",
      "Checking the data on station 466990\n",
      "Checking the data on station 467060\n",
      "Checking the data on station 467080\n",
      "Checking the data on station 467110\n",
      "467110  problem\n",
      "Checking the data on station 467300\n",
      "467300  problem\n",
      "Checking the data on station 467350\n",
      "467350  problem\n",
      "Checking the data on station 467410\n",
      "Checking the data on station 467420\n",
      "467420  problem\n",
      "Checking the data on station 467440\n",
      "467440  problem\n",
      "Checking the data on station 467480\n",
      "467480  problem\n",
      "Checking the data on station 467490\n",
      "Checking the data on station 467530\n",
      "Checking the data on station 467540\n",
      "Checking the data on station 467550\n",
      "Checking the data on station 467571\n",
      "Checking the data on station 467590\n",
      "Checking the data on station 467610\n",
      "Checking the data on station 467620\n",
      "Checking the data on station 467650\n",
      "467650  problem\n",
      "Checking the data on station 467660\n",
      "Checking the data on station 467770\n",
      "467770  problem\n",
      "Checking the data on station 467790\n",
      "Checking the data on station 467990\n",
      "Checking the data on station C0A530\n",
      "Checking the data on station C0A540\n",
      "Checking the data on station C0A550\n",
      "Checking the data on station C0A560\n",
      "Checking the data on station C0A570\n",
      "Checking the data on station C0A580\n",
      "Checking the data on station C0A640\n",
      "Checking the data on station C0A650\n",
      "Checking the data on station C0A660\n",
      "Checking the data on station C0A860\n",
      "Checking the data on station C0A870\n",
      "Checking the data on station C0A880\n",
      "Checking the data on station C0A890\n",
      "Checking the data on station C0A920\n",
      "Checking the data on station C0A940\n",
      "Checking the data on station C0A950\n",
      "Checking the data on station C0A980\n",
      "Checking the data on station C0A9A0\n",
      "Checking the data on station C0A9B0\n",
      "Checking the data on station C0A9C0\n",
      "Checking the data on station C0A9E0\n",
      "Checking the data on station C0A9F0\n",
      "Checking the data on station C0A9G0\n",
      "Checking the data on station C0A9I1\n",
      "Checking the data on station C0AC40\n",
      "Checking the data on station C0AC60\n",
      "Checking the data on station C0AC80\n",
      "Checking the data on station C0ACA0\n",
      "Checking the data on station C0AD00\n",
      "Checking the data on station C0AD10\n",
      "Checking the data on station C0AD30\n",
      "Checking the data on station C0AD40\n",
      "Checking the data on station C0AD50\n",
      "Checking the data on station C0C460\n",
      "Checking the data on station C0C480\n",
      "Checking the data on station C0C520\n",
      "Checking the data on station C0C540\n",
      "Checking the data on station C0C590\n",
      "C0C590  problem\n",
      "Checking the data on station C0C630\n",
      "Checking the data on station C0C650\n",
      "Checking the data on station C0D360\n",
      "Checking the data on station C0D390\n",
      "Checking the data on station C0D480\n",
      "Checking the data on station C0D540\n",
      "Checking the data on station C0D550\n",
      "Checking the data on station C0D560\n",
      "Checking the data on station C0D570\n",
      "Checking the data on station C0E420\n",
      "Checking the data on station C0E430\n",
      "Checking the data on station C0E610\n",
      "Checking the data on station C0E730\n",
      "Checking the data on station C0R360\n",
      "Checking the data on station C0R370\n",
      "Checking the data on station C0R380\n",
      "C0R380  problem\n",
      "Checking the data on station C0S690\n",
      "Checking the data on station C0S700\n",
      "Checking the data on station C0S730\n",
      "Checking the data on station C0S750\n",
      "Checking the data on station C0S830\n",
      "C0S830  problem\n",
      "Checking the data on station C0T960\n",
      "Checking the data on station C0U620\n",
      "Checking the data on station C0U710\n",
      "C0U710  problem\n",
      "Checking the data on station C0U760\n",
      "Checking the data on station C0V150\n",
      "Checking the data on station C0Z260\n",
      "Checking the data on station C1G690\n",
      "Checking the data on station C1U511\n"
     ]
    }
   ],
   "source": [
    "for j in range(len(sta)):\n",
    "    if stal[j] not in ignore:\n",
    "        file = glob(\"data/Yearly/{}/*.txt\".format(stal[j]))\n",
    "        print(\"Checking the data on station\",stal[j])\n",
    "        try:\n",
    "            for i,f in enumerate(file):\n",
    "                df_tmp = pd.read_csv(file[i],index_col=0)\n",
    "                if i == 0:\n",
    "                    df = df_tmp\n",
    "                else:\n",
    "                    df = pd.concat([df,df_tmp])\n",
    "            df['Time'] = df[\"StnPresMinTime\"].str[0:7]\n",
    "            dff = pd.DataFrame([[float(a) for a in list(df.Precp)]],columns= list(df.Time),index=[stal[j]])\n",
    "            dff['long'] = len(dff) * [0.0]\n",
    "            dff['lat'] = len(dff) * [0.0]\n",
    "            dff['name'] = len(dff) * ''\n",
    "            dff.loc[stal[j],\"long\"] = float(sta[\"long\"][sta[\"id\"]==stal[j]])\n",
    "            dff.loc[stal[j],\"lat\"] = float(sta[\"lat\"][sta[\"id\"]==stal[j]])\n",
    "            dff.loc[stal[j],\"name\"] = stal[j]\n",
    "            DF_tmp = dff\n",
    "            if j == 0:\n",
    "                DF = DF_tmp\n",
    "            else:\n",
    "                DF = pd.concat([DF,DF_tmp]) \n",
    "        except:\n",
    "            print(stal[j],\" problem\")\n",
    "            ignore.append(stal[j])\n",
    "            pass        \n",
    "#    DF = DF.dropna(axis = 0, thresh = 10)\n",
    "    DF.to_csv(\"precp.csv\")"
   ]
  },
  {
   "cell_type": "code",
   "execution_count": null,
   "metadata": {
    "collapsed": true
   },
   "outputs": [],
   "source": []
  }
 ],
 "metadata": {
  "kernelspec": {
   "display_name": "Python 3",
   "language": "python",
   "name": "python3"
  },
  "language_info": {
   "codemirror_mode": {
    "name": "ipython",
    "version": 3
   },
   "file_extension": ".py",
   "mimetype": "text/x-python",
   "name": "python",
   "nbconvert_exporter": "python",
   "pygments_lexer": "ipython3",
   "version": "3.6.3"
  }
 },
 "nbformat": 4,
 "nbformat_minor": 2
}
