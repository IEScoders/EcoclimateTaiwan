{
 "cells": [
  {
   "cell_type": "code",
   "execution_count": 14,
   "metadata": {
    "collapsed": true
   },
   "outputs": [],
   "source": [
    "import pandas as pd\n",
    "import matplotlib.pyplot as plt\n",
    "import numpy as np\n",
    "import sys,os\n",
    "# -*- coding: utf-8 -*-"
   ]
  },
  {
   "cell_type": "code",
   "execution_count": 15,
   "metadata": {
    "collapsed": true
   },
   "outputs": [],
   "source": [
    "def df_value(filename,station):\n",
    "    df = pd.read_csv(filename,index_col=0)\n",
    "    dft = df[df.name == station]\n",
    "    dft = dft.T.drop('name')\n",
    "    dft.columns = ['EI']\n",
    "    dft['id'] = [station] * len(dft)\n",
    "    dft['Time'] = dft.index\n",
    "    new = dft.Time.str.split('-', n = 0,expand = True)\n",
    "    dft['Year'] = new[0]\n",
    "    dft['Month'] = new[1].apply(int)\n",
    "    return dft\n",
    "def df_month(df,station):\n",
    "    df = df[df.id == station]\n",
    "    df = df.sort_values('Month')\n",
    "    dfft = [df[df.Month == m] for m in range(1,13)]\n",
    "    mean = [DF.EI.mean() for DF in dfft]\n",
    "    std = [DF.EI.std() for DF in dfft]\n",
    "    return mean, std"
   ]
  },
  {
   "cell_type": "code",
   "execution_count": 22,
   "metadata": {
    "collapsed": true
   },
   "outputs": [],
   "source": [
    "def plot_ts(species,station):\n",
    "    dfTemp = df_value(\"../analysis/temperature.csv\",station)\n",
    "    Tmean, Tstd = df_month(dfTemp,station)\n",
    "    dfTmin = df_value(\"../analysis/Tmin.csv\",station)\n",
    "    Tminmean, Tminstd = df_month(dfTmin,station)\n",
    "    dfTmax = df_value(\"../analysis/Tmax.csv\",station)\n",
    "    Tmaxmean, Tmaxstd = df_month(dfTmax,station)\n",
    "\n",
    "    dfPrep = df_value(\"../analysis/precp.csv\",station)\n",
    "    Pmean, Pstd = df_month(dfPrep,station)\n",
    "    EImean, EIstd = df_month(pd.read_csv(\"../output_csv/combine/{}.csv\".format(species)),station)\n",
    "    mm = [1,2,3,4,5,6,7,8,9,10,11,12]\n",
    "    plt.figure(figsize=[8,8])\n",
    "    a1 = plt.subplot(311)\n",
    "    plt.errorbar(mm,EImean,EIstd,fmt=\"-go\")\n",
    "    plt.xticks(mm)\n",
    "    plt.ylabel(\"EI value\")\n",
    "    a2 = plt.subplot(312,sharex=a1)\n",
    "    plt.errorbar(mm,Tmean,Tstd,fmt=\"-ro\",label=\"Average Temp\")\n",
    "    plt.errorbar(mm,Tminmean,Tminstd,fmt=\"--ro\", label = \"Min Temp\")\n",
    "    plt.errorbar(mm,Tmaxmean,Tmaxstd,fmt=\"-.ro\", label = \"Max Temp\")\n",
    "    plt.ylabel(\"Temperature (°C)\")\n",
    "    plt.legend()\n",
    "    a3 = plt.subplot(313,sharex=a1)\n",
    "    plt.errorbar(mm,Pmean,Pstd,fmt=\"-bo\")\n",
    "    plt.ylabel(\"Precipitation (mm)\")\n",
    "\n",
    "    path =\"../result/{}\".format(species)\n",
    "    if not os.path.exists(path):\n",
    "        os.mkdir(path)\n",
    "    plt.xlabel(\"Month\")\n",
    "    plt.savefig(\"../result/{}/{}.jpg\".format(species,station),dpi=150,bbox_inches=\"tight\")"
   ]
  },
  {
   "cell_type": "code",
   "execution_count": 28,
   "metadata": {},
   "outputs": [],
   "source": [
    "df = pd.read_csv(\"../species.csv\")\n",
    "dfs = pd.read_csv(\"../output_csv/combine/achatina_fulica.csv\")\n",
    "spl = list(set(df.scientific_name))\n",
    "stl = list(set(dfs.id))\n",
    "for sp in spl:\n",
    "    for st in stl:\n",
    "        plot_ts(sp,st)"
   ]
  },
  {
   "cell_type": "code",
   "execution_count": null,
   "metadata": {
    "collapsed": true
   },
   "outputs": [],
   "source": []
  }
 ],
 "metadata": {
  "kernelspec": {
   "display_name": "Python 3",
   "language": "python",
   "name": "python3"
  },
  "language_info": {
   "codemirror_mode": {
    "name": "ipython",
    "version": 3
   },
   "file_extension": ".py",
   "mimetype": "text/x-python",
   "name": "python",
   "nbconvert_exporter": "python",
   "pygments_lexer": "ipython3",
   "version": "3.6.3"
  }
 },
 "nbformat": 4,
 "nbformat_minor": 2
}
