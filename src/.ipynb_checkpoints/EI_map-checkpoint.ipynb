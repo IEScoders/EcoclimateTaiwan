{
 "cells": [
  {
   "cell_type": "code",
   "execution_count": 1,
   "metadata": {
    "collapsed": true
   },
   "outputs": [],
   "source": [
    "import numpy as np\n",
    "import pandas as pd\n",
    "import folium\n",
    "import branca\n",
    "import matplotlib.pyplot as plt\n",
    "from scipy.interpolate import griddata\n",
    "import geojsoncontour\n",
    "import base64\n",
    "from folium.features import DivIcon\n",
    "from folium import plugins\n",
    "import json, ast\n",
    "import scipy as sp\n",
    "import scipy.ndimage\n",
    "\n",
    "from pykrige.ok import OrdinaryKriging\n",
    "from pykrige.kriging_tools import write_asc_grid\n",
    "import pykrige.kriging_tools as kt\n",
    "\n",
    "from shapely.geometry import Point\n",
    "from shapely.geometry.polygon import Polygon"
   ]
  },
  {
   "cell_type": "code",
   "execution_count": 2,
   "metadata": {
    "collapsed": true
   },
   "outputs": [],
   "source": [
    "def tw_bound():\n",
    "    df = pd.read_csv(\"../data/taiwan2.csv\",header = None)\n",
    "    return [[x,y] for x,y in zip(df[0],df[1])]"
   ]
  },
  {
   "cell_type": "code",
   "execution_count": 3,
   "metadata": {
    "collapsed": true
   },
   "outputs": [],
   "source": [
    "# def color_producer1(el):\n",
    "#     if el < 0.01:\n",
    "#         return \"#FFFFFF\"\n",
    "#     elif 0.01 <= el < 0.1:\n",
    "#         return \"#BBBBFF\"\n",
    "#     elif 0.11 <= el < 0.2:\n",
    "#         return \"#8888FF\"\n",
    "#     elif 0.21 <= el < 0.6:\n",
    "#         return \"#4444FF\"\n",
    "\n",
    "#     else:\n",
    "#         return \"#0000FF\"\n",
    "\n",
    "# def color_producer2(el):\n",
    "#     if el < 0.01:\n",
    "#         return \"#FFFFFF\"\n",
    "#     elif 0.01 <= el < 0.1:\n",
    "#         return \"#FFBBBB\"\n",
    "#     elif 0.11 <= el < 0.2:\n",
    "#         return \"#FF8888\"\n",
    "#     elif 0.21 <= el < 0.6:\n",
    "#         return \"#FF4444\"\n",
    "\n",
    "#     else:\n",
    "#         return \"#FF0000\"\n",
    "def add_layer(df,text,cc): \n",
    "    if cc == 1:\n",
    "        colors = [\"#FFFFFF\", \"#6666FF\", \"#6666FF\",\"#6666FF\", \"#6666FF\",\"#6666FF\",\n",
    "          \"#0000FF\",\"#0000FF\",\"#0000FF\",\"#0000FF\"]\n",
    "    elif cc == 2:\n",
    "        colors = colors = [\"#FFFFFF\", \"#FFAAAA\", \"#FF6666\",\"#FF6666\", \"#FF6666\",\"#FF6666\",\n",
    "          \"#FF0000\",\"#FF0000\",\"#FF0000\",\"#FF0000\"] \n",
    "\n",
    "    polygon = Polygon(tw)\n",
    "    lons = np.asarray(df.long.tolist())\n",
    "    lats = np.asarray(df.lat.tolist())\n",
    "    data = np.asarray(df.EI.tolist())\n",
    "    grid_space = 0.05\n",
    "    global grid_lon, grid_lat\n",
    "    grid_lon = np.arange(lons.min()-0.1, lons.max()+0.1, grid_space) \n",
    "    grid_lat = np.arange(lats.min()-0.1, lats.max()+0.1, grid_space)\n",
    "    OK = OrdinaryKriging(lons, lats, data, variogram_model='gaussian', verbose=False, enable_plotting=False,nlags=20)\n",
    "    global z_mesh,x_mesh,y_mesh\n",
    "    z_mesh, ss1 = OK.execute('grid', grid_lon, grid_lat)\n",
    "    x_mesh, y_mesh = np.meshgrid(grid_lon, grid_lat)\n",
    "    shp = x_mesh.shape\n",
    "    mtw = np.zeros(shp,dtype=np.float)\n",
    "    for i in range(shp[0]):\n",
    "        for j in range(shp[1]):\n",
    "            point = Point(x_mesh[i][j], y_mesh[i][j])\n",
    "            if not polygon.contains(point):\n",
    "                mtw[i][j] = 1        \n",
    "    z_mesh = np.ma.masked_where(mtw == 1, z_mesh)    \n",
    "    \n",
    "    contourf = plt.contourf(x_mesh, y_mesh, z_mesh, levels, alpha=0.8, colors=colors, linestyles='None', vmin=vmin, vmax=vmax)\n",
    "    global geojson\n",
    "    geojson = geojsoncontour.contourf_to_geojson(\n",
    "        contourf=contourf,\n",
    "        min_angle_deg=3.0,\n",
    "        ndigits=5,\n",
    "        stroke_width=1,\n",
    "        fill_opacity=0.5)\n",
    "    geoj = folium.GeoJson(\n",
    "        geojson,\n",
    "        style_function=lambda x: {\n",
    "            'color':     x['properties']['stroke'],\n",
    "            'weight':    x['properties']['stroke-width'],\n",
    "            'fillColor': x['properties']['fill'],\n",
    "            'opacity':   0.6,\n",
    "        })\n",
    "#    f1.add_child(geoj)\n",
    "\n",
    "    return geoj,geojson\n",
    "\n",
    "# def add_point(df,text,cc):\n",
    "#     html = \"\"\"\n",
    "#     CWB station id:\n",
    "#     <br><a href=\"https://www.google.com/search?q=%%22%s%%22\" target=\"_blank\">%s</a><br>\n",
    "#     EI value: %.2f \n",
    "#     \"\"\"\n",
    "    \n",
    "# #    f2 = folium.FeatureGroup(name='{}'.format(text))\n",
    "#     for lt, ln, ei, nm in zip(df.lat,df.long, df.EI, df.id):\n",
    "#         iframe = folium.IFrame(html=html % (nm,nm,ei), width = 200, height = 100)\n",
    "#         if cc == 1:\n",
    "#             p = folium.CircleMarker(location = [lt,ln], \n",
    "#                                         popup = folium.Popup(iframe),\n",
    "#                                         radius = 4,\n",
    "#                                         color = 'grey',\n",
    "#                                         fill_color=color_producer1(ei),\n",
    "#                                         fill_opacity = 0.2)\n",
    "#         elif cc == 2:\n",
    "#             p = folium.CircleMarker(location = [lt,ln], \n",
    "#                                         popup = folium.Popup(iframe),\n",
    "#                                         radius = 4,\n",
    "#                                         color = 'grey',\n",
    "#                                         fill_color=color_producer2(ei),\n",
    "#                                         fill_opacity = 0.2)\n",
    "#     return p\n",
    "\n",
    "# def add_text(loc,content,c,fig):\n",
    "#     html = '<img src=\"data:image/png;base64,{}\">'.format\n",
    "#     encoded = base64.b64encode(open(\"../image/{}.jpg\".format(fig), 'rb').read()).decode()\n",
    "\n",
    "#     iframe = folium.IFrame(html(encoded), width=200, height=200)\n",
    "#     popup = folium.Popup(iframe, max_width=1000)\n",
    "\n",
    "#     Text = folium.Marker(location=loc, popup=popup,\n",
    "#                          icon=DivIcon(\n",
    "#             icon_size=(150,36),\n",
    "#             icon_anchor=(0,0),\n",
    "#             html='<font color=\"{}\"><div style=\"font-size: 16pt\">{}</div></font>'.format(c,content),\n",
    "#             ))\n",
    "#     return Text"
   ]
  },
  {
   "cell_type": "code",
   "execution_count": 4,
   "metadata": {
    "collapsed": true
   },
   "outputs": [],
   "source": [
    "def add_dictime(geojson,time):\n",
    "    t = []\n",
    "    for i,ply in enumerate(ast.literal_eval(geojson)['features']):\n",
    "        dic = {}\n",
    "        dic['geometry'] = ply['geometry']\n",
    "        dic['properties'] = {\"times\" : [\"{}\".format(time)], \"style\": \n",
    "                             {\"color\":ply['properties']['fill'],\n",
    "                            \"opacity\" :0,\"weight\" : 0.5, \"fillColor\": ply['properties']['fill']\n",
    "                             }}\n",
    "        dic['type'] = 'Feature'\n",
    "        t.append(dic)\n",
    "    return t"
   ]
  },
  {
   "cell_type": "code",
   "execution_count": 5,
   "metadata": {
    "collapsed": true
   },
   "outputs": [],
   "source": [
    "_,sp = 'orius_strigicollis','cacopsylla_chinensis'\n",
    "df = pd.read_csv(\"../output_csv/combine/{}.csv\".format(sp))\n",
    "#df2 = pd.read_csv(\"../output_csv/combine/{}.csv\".format(sp2))\n",
    "# df1 = df1[df1.long>120]\n",
    "# df1 = df1[df1['id'] != 'C0S730'][df1['id'] != '467620'][df1['id'] != '466950'][df1['id'] !='C0W170']\n",
    "# df2 = df2[df2.long>120]\n",
    "# df2 = df2[df2['id'] != 'C0S730'][df2['id'] != '467620'][df2['id'] != '466950'][df2['id'] !='C0W170']\n",
    "tw = tw_bound()"
   ]
  },
  {
   "cell_type": "code",
   "execution_count": 6,
   "metadata": {
    "collapsed": true
   },
   "outputs": [],
   "source": [
    "tl = []\n",
    "levels,vmin, vmax = 5,0,1\n",
    "for time in list(set(df.Time))[0:1]:\n",
    "    dft = df[df.Time == time]\n",
    "    _,geojson = add_layer(dft,'',2)\n",
    "    t = add_dictime(geojson,time)\n",
    "    tl += t"
   ]
  },
  {
   "cell_type": "code",
   "execution_count": 8,
   "metadata": {
    "collapsed": true
   },
   "outputs": [],
   "source": [
    "geomap = folium.Map([23.75, 121], zoom_start=8, tiles=\"cartodbpositron\")\n",
    "colors = [\"#FFFFFF\", \"#FFAAAA\", \"#FF6666\",\"#FF6666\", \"#FF6666\",\"#FF6666\",\n",
    "          \"#FF0000\",\"#FF0000\",\"#FF0000\",\"#FF0000\"] \n",
    "cm     = branca.colormap.LinearColormap(colors, vmin=0, vmax=1).to_step(len(colors))\n",
    "cm.caption = 'EI value'\n",
    "geomap.add_child(cm)\n",
    "time1 = plugins.TimestampedGeoJson(\n",
    "    {\n",
    "        'type': 'Feature',\n",
    "        'features': tl,\n",
    "        \n",
    "    },\n",
    "    period='P1M',\n",
    "    duration='P15D',\n",
    "    auto_play=False,\n",
    "    loop=False,\n",
    "    loop_button=True,\n",
    "    date_options='YYYY/MM',\n",
    ")\n",
    "#geomap\n",
    "plugins.Fullscreen(position='topright', force_separate_button=True).add_to(geomap)\n",
    "geomap.add_child(folium.LayerControl())\n",
    "\n",
    "layer1 = folium.FeatureGroup(name='{}'.format(sp))\n",
    "layer1.add_child(time1)\n",
    "geomap.add_child(layer1)\n",
    "geomap.save('../html/{}.html'.format(sp))"
   ]
  },
  {
   "cell_type": "code",
   "execution_count": 11,
   "metadata": {},
   "outputs": [
    {
     "data": {
      "text/plain": [
       "True"
      ]
     },
     "execution_count": 11,
     "metadata": {},
     "output_type": "execute_result"
    }
   ],
   "source": []
  },
  {
   "cell_type": "code",
   "execution_count": null,
   "metadata": {
    "collapsed": true,
    "scrolled": true
   },
   "outputs": [],
   "source": [
    "# geomap = folium.Map([23.75, 121], zoom_start=8, tiles=\"cartodbpositron\")\n",
    "# levels = 5\n",
    "# vmin, vmax = 0,1.01\n",
    "# f1 = folium.FeatureGroup(name='test1')\n",
    "# geoj1,geojson1 = add_layer(df1,\"1\",1)\n",
    "# #p1 = add_point(df1,\"1\",1)\n",
    "# #Text1 = add_text([25,119],\"南方小花蝽\",\"blue\",\"orius_strigicollis\")\n",
    "# #geomap.add_child(Text1)\n",
    "# f2 = folium.FeatureGroup(name='test2')\n",
    "# geoj2,_ = add_layer(df2,\"1\",2)\n",
    "# #p2 = add_point(df2,\"1\",2)\n",
    "# #Text2 = add_text([24,119],\"中國梨木蝨\",\"red\",\"cacopsylla_chinensis\")\n",
    "# #geomap.add_child(Text2)\n",
    "\n",
    "# #Text2 = add_text([25,123],\"2017-06\",\"black\",\"cacopsylla_chinensis\")\n",
    "# #geomap.add_child(Text2)\n",
    "# f1.add_child(geoj1)\n",
    "# f2.add_child(geoj2)\n",
    "# #f1.add_child(p1)\n",
    "# #f2.add_child(p2)\n",
    "# geomap.add_child(f1)\n",
    "# geomap.add_child(f2)\n",
    "\n",
    "# plugins.Fullscreen(position='topright', force_separate_button=True).add_to(geomap)\n",
    "# geomap.add_child(folium.LayerControl()) \n",
    "# #geomap.save('../html/biozone2017-06.html')\n",
    "# geomap"
   ]
  },
  {
   "cell_type": "code",
   "execution_count": null,
   "metadata": {
    "collapsed": true
   },
   "outputs": [],
   "source": []
  }
 ],
 "metadata": {
  "kernelspec": {
   "display_name": "Python 3",
   "language": "python",
   "name": "python3"
  },
  "language_info": {
   "codemirror_mode": {
    "name": "ipython",
    "version": 3
   },
   "file_extension": ".py",
   "mimetype": "text/x-python",
   "name": "python",
   "nbconvert_exporter": "python",
   "pygments_lexer": "ipython3",
   "version": "3.6.3"
  }
 },
 "nbformat": 4,
 "nbformat_minor": 2
}
