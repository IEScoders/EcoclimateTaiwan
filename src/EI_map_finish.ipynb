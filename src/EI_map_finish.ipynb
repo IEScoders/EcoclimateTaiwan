{
 "cells": [
  {
   "cell_type": "code",
   "execution_count": 1,
   "metadata": {
    "collapsed": true
   },
   "outputs": [],
   "source": [
    "import numpy as np\n",
    "import pandas as pd\n",
    "import folium\n",
    "import branca\n",
    "import matplotlib.pyplot as plt\n",
    "#from scipy.interpolate import griddata\n",
    "import geojsoncontour\n",
    "import base64\n",
    "from folium.features import DivIcon\n",
    "from folium import plugins\n",
    "import json, ast\n",
    "#import scipy as sp\n",
    "#import scipy.ndimage\n",
    "\n",
    "from pykrige.ok import OrdinaryKriging\n",
    "from pykrige.kriging_tools import write_asc_grid\n",
    "import pykrige.kriging_tools as kt\n",
    "\n",
    "from shapely.geometry import Point\n",
    "from shapely.geometry.polygon import Polygon"
   ]
  },
  {
   "cell_type": "code",
   "execution_count": 2,
   "metadata": {
    "collapsed": true
   },
   "outputs": [],
   "source": [
    "def tw_bound():\n",
    "    df = pd.read_csv(\"../data/taiwan2.csv\",header = None)\n",
    "    return [[x,y] for x,y in zip(df[0],df[1])]"
   ]
  },
  {
   "cell_type": "code",
   "execution_count": 14,
   "metadata": {
    "collapsed": true
   },
   "outputs": [],
   "source": [
    "def color_producer1(el):\n",
    "    if el < 0.01:\n",
    "        return \"#FFFFFF\"\n",
    "    elif 0.01 <= el < 0.1:\n",
    "        return \"#FFFFFF\"\n",
    "    elif 0.11 <= el < 0.2:\n",
    "        return \"#AAAAFF\"\n",
    "    elif 0.21 <= el < 0.6:\n",
    "        return \"#6666FF\"\n",
    "    elif 0.6 <= el:\n",
    "        return \"#0000FF\"\n",
    "\n",
    "def color_producer2(el):\n",
    "    if el < 0.01:\n",
    "        return \"#FFFFFF\"\n",
    "    elif 0.01 <= el < 0.1:\n",
    "        return \"#FFFFFF\"\n",
    "    elif 0.11 <= el < 0.2:\n",
    "        return \"#FFAAAA\"\n",
    "    elif 0.21 <= el < 0.6:\n",
    "        return \"#FF6666\"\n",
    "    else:\n",
    "        return \"#FF0000\"\n",
    "    \n",
    "def add_layer(df,text,cc): \n",
    "    if cc == 1:\n",
    "        colors = [\"#FFFFFF\", \"#AAAAFF\", \"#6666FF\",\"#6666FF\", \"#6666FF\",\"#6666FF\",\n",
    "          \"#0000FF\",\"#0000FF\",\"#0000FF\",\"#0000FF\",\"#0000FF\"]\n",
    "    elif cc == 2:\n",
    "        colors = [\"#FFFFFF\", \"#FFAAAA\", \"#FF6666\",\"#FF6666\", \"#FF6666\",\"#FF6666\",\n",
    "          \"#FF0000\",\"#FF0000\",\"#FF0000\",\"#FF0000\",\"#FF0000\"] \n",
    "    elif cc == 3:\n",
    "        colors = [\"#FFFFFF\", \"#AAFFAA\", \"#66FF66\",\"#66FF66\", \"#66FF66\",\"#66FF66\",\n",
    "          \"#00FF00\",\"#00FF00\",\"#00FF00\",\"#00FF00\",\"#00FF00\"] \n",
    "    polygon = Polygon(tw)\n",
    "    lons = np.asarray(df.long.tolist())\n",
    "    lats = np.asarray(df.lat.tolist())\n",
    "    data = np.asarray(df.EI.tolist())\n",
    "    grid_space = 0.05\n",
    "    global grid_lon, grid_lat\n",
    "    grid_lon = np.arange(lons.min()-0.1, lons.max()+0.1, grid_space) \n",
    "    grid_lat = np.arange(lats.min()-0.1, lats.max()+0.1, grid_space)\n",
    "    OK = OrdinaryKriging(lons, lats, data, variogram_model='gaussian', verbose=False, enable_plotting=False,nlags=20)\n",
    "    global z_mesh,x_mesh,y_mesh\n",
    "    z_mesh, ss1 = OK.execute('grid', grid_lon, grid_lat)\n",
    "    x_mesh, y_mesh = np.meshgrid(grid_lon, grid_lat)\n",
    "    shp = x_mesh.shape\n",
    "    mtw = np.zeros(shp,dtype=np.float)\n",
    "    for i in range(shp[0]):\n",
    "        for j in range(shp[1]):\n",
    "            point = Point(x_mesh[i][j], y_mesh[i][j])\n",
    "            if not polygon.contains(point):\n",
    "                mtw[i][j] = 1        \n",
    "    z_mesh = np.ma.masked_where(mtw == 1, z_mesh)    \n",
    "    \n",
    "    contourf = plt.contourf(x_mesh, y_mesh, z_mesh, levels, alpha=0.8, colors=colors, linestyles='None', vmin=vmin, vmax=vmax)\n",
    "    global geojson\n",
    "    geojson = geojsoncontour.contourf_to_geojson(\n",
    "        contourf=contourf,\n",
    "        min_angle_deg=3.0,\n",
    "        ndigits=5,\n",
    "        stroke_width=1,\n",
    "        fill_opacity=0.5)\n",
    "    geoj = folium.GeoJson(\n",
    "        geojson,\n",
    "        style_function=lambda x: {\n",
    "            'color':     x['properties']['stroke'],\n",
    "            'weight':    x['properties']['stroke-width'],\n",
    "            'fillColor': x['properties']['fill'],\n",
    "            'opacity':   0.6,\n",
    "        })\n",
    "\n",
    "    return geoj,geojson\n",
    "\n"
   ]
  },
  {
   "cell_type": "code",
   "execution_count": 15,
   "metadata": {
    "collapsed": true
   },
   "outputs": [],
   "source": [
    "def add_station(df):\n",
    "    features = []\n",
    "    for time in list(set(df.Time))[0:5]:\n",
    "        dft = df[df.Time == time]\n",
    "        long,lat,EI = list(dft.long),list(dft.lat),list(dft.EI)\n",
    "        for i in range(len(dft)):\n",
    "            features.append(\n",
    "                {\n",
    "                'type': 'Feature',\n",
    "                'geometry': {\n",
    "                    'type': 'Point',\n",
    "                    'coordinates': [\n",
    "                        long[i],lat[i]\n",
    "                    ],\n",
    "                },\n",
    "                'properties': {\n",
    "                    'time': time,\n",
    "                    'popup': \"EI value: {:.2f}\".format(float(EI[i])),\n",
    "                    'icon': 'circle',\n",
    "                    'iconstyle': {\n",
    "                        'fillColor': color_producer2(EI[i]),\n",
    "                        'stroke': 'false',\n",
    "                        'fillOpacity': 0.5,\n",
    "                        'radius': 4,\n",
    "                        'color' : 'black'\n",
    "                    },'style': {'weight': 0.5}\n",
    "                }\n",
    "            }\n",
    "        )    \n",
    "    return features    \n"
   ]
  },
  {
   "cell_type": "code",
   "execution_count": 16,
   "metadata": {
    "collapsed": true
   },
   "outputs": [],
   "source": [
    "def add_dictime(geojson,time):\n",
    "    t = []\n",
    "    for i,ply in enumerate(ast.literal_eval(geojson)['features']):\n",
    "        dic = {}\n",
    "        dic['geometry'] = ply['geometry']\n",
    "        dic['properties'] = {\"times\" : [\"{}\".format(time)], \"style\": \n",
    "                             {\"color\":ply['properties']['fill'],\n",
    "                            \"opacity\" :0,\"weight\" : 0.5, \"fillColor\": ply['properties']['fill']\n",
    "                             }}\n",
    "        dic['type'] = 'Feature'\n",
    "        t.append(dic)\n",
    "    return t\n",
    "\n",
    "def add_dictime_ref(geojson,time):\n",
    "    t = []\n",
    "    for i,ply in enumerate(ast.literal_eval(geojson)['features']):\n",
    "        dic = {}\n",
    "        dic['geometry'] = ply['geometry']\n",
    "        dic['properties'] = {\"times\" : [\"{}\".format(time)], \"style\": \n",
    "                             {\"color\":ply['properties']['fill'],\n",
    "                            \"opacity\" :0.5,\"weight\" : 2.0, \"fillOpacity\": 0,'dashArray':4\n",
    "                             }}\n",
    "        dic['type'] = 'Feature'\n",
    "        t.append(dic)\n",
    "    return t"
   ]
  },
  {
   "cell_type": "code",
   "execution_count": 17,
   "metadata": {
    "collapsed": true
   },
   "outputs": [],
   "source": [
    "def get_list(df,cc,ref=False):\n",
    "    tl = []\n",
    "    \n",
    "    for time in list(set(df.Time))[0:5]:\n",
    "        dft = df[df.Time == time]\n",
    "        _,geojson = add_layer(dft,'',cc)\n",
    "        if ref == False:\n",
    "            t = add_dictime(geojson,time)\n",
    "        else:\n",
    "            t = add_dictime_ref(geojson,time)\n",
    "        tl += t\n",
    "    return tl"
   ]
  },
  {
   "cell_type": "code",
   "execution_count": 70,
   "metadata": {
    "collapsed": true
   },
   "outputs": [],
   "source": [
    "def makemap(lst):\n",
    "\n",
    "    geomap = folium.Map([23.75, 121], zoom_start=8, tiles=\"cartodbpositron\")\n",
    "    folium.TileLayer('stamenterrain').add_to(geomap)\n",
    "\n",
    "    colors = [\"#FFFFFF\", \"#FFAAAA\", \"#FF6666\",\"#FF6666\", \"#FF6666\",\"#FF6666\",\n",
    "              \"#FF0000\",\"#FF0000\",\"#FF0000\",\"#FF0000\"] \n",
    "    cm     = branca.colormap.LinearColormap(colors, vmin=0, vmax=1).to_step(len(colors))\n",
    "    cm.caption = 'EI value'\n",
    "    geomap.add_child(cm)\n",
    "    levels,vmin, vmax = 10,0,1\n",
    "    sp,*pred = lst\n",
    "    dfsp = pd.read_csv(\"../output_csv/combine/{}.csv\".format(sp))\n",
    "    tl1 = get_list(dfsp,2)\n",
    "    if len(pred) == 1:\n",
    "        pred1 = pd.read_csv(\"../output_csv/combine/{}.csv\".format(pred[0]))\n",
    "        tl2 =  get_list(pred1,1,ref=True)\n",
    "        tl3 = []\n",
    "    elif len(pred) == 1:\n",
    "        pred1 = pd.read_csv(\"../output_csv/combine/{}.csv\".format(pred[0]))\n",
    "        pred2 = pd.read_csv(\"../output_csv/combine/{}.csv\".format(pred[1]))\n",
    "        tl2 =  get_list(pred1,1,ref=True)\n",
    "        tl3 =  get_list(pred2,1,ref=True)\n",
    "    else:\n",
    "        tl2 = tl3 = []\n",
    "    features = add_station(dfsp)\n",
    "    FC = tl1 + tl2 + tl3 + features\n",
    "    plugins.TimestampedGeoJson(\n",
    "        {\n",
    "            'type': 'Feature',\n",
    "            'features': FC\n",
    "\n",
    "        },\n",
    "        period='P1M',\n",
    "        duration='P15D',\n",
    "        auto_play=False,\n",
    "        loop=False,\n",
    "        loop_button=True,\n",
    "        date_options='YYYY/MM',\n",
    "    ).add_to(geomap)\n",
    "\n",
    "\n",
    "    plugins.Fullscreen(position='topright', force_separate_button=True).add_to(geomap)\n",
    "    geomap.add_child(folium.LayerControl())\n",
    "    plugins.MiniMap().add_to(geomap)\n",
    "\n",
    "    geomap.save('../html/{}.html'.format(sp))\n"
   ]
  },
  {
   "cell_type": "code",
   "execution_count": null,
   "metadata": {
    "collapsed": true
   },
   "outputs": [],
   "source": [
    "if __name__ == '__main__':\n",
    "    tw = tw_bound()\n",
    "    species_df = pd.read_csv(\"../species.csv\")\n",
    "    species = list(species_df.scientific_name)\n",
    "    listsp = []\n",
    "    for sp in species:\n",
    "        prel = species_df.predators[species_df.scientific_name == sp].to_string().split()\n",
    "        if prel[1] != 'NaN':\n",
    "            pre = prel[1:]\n",
    "        else:\n",
    "            pre = []\n",
    "        listsp.append([sp]+pre)\n",
    "    for lst in listsp:\n",
    "        makemap(lst)"
   ]
  },
  {
   "cell_type": "code",
   "execution_count": 18,
   "metadata": {
    "collapsed": true
   },
   "outputs": [],
   "source": [
    "# sp1,sp2 = 'orius_strigicollis','cacopsylla_chinensis'\n",
    "# df1 = pd.read_csv(\"../output_csv/combine/{}.csv\".format(sp1))\n",
    "# df2 = pd.read_csv(\"../output_csv/combine/{}.csv\".format(sp2))\n",
    "\n",
    "#df2 = pd.read_csv(\"../output_csv/combine/{}.csv\".format(sp2))\n",
    "# df1 = df1[df1.long>120]\n",
    "# df1 = df1[df1['id'] != 'C0S730'][df1['id'] != '467620'][df1['id'] != '466950'][df1['id'] !='C0W170']\n",
    "# df2 = df2[df2.long>120]\n",
    "# df2 = df2[df2['id'] != 'C0S730'][df2['id'] != '467620'][df2['id'] != '466950'][df2['id'] !='C0W170']\n"
   ]
  },
  {
   "cell_type": "code",
   "execution_count": null,
   "metadata": {
    "collapsed": true
   },
   "outputs": [],
   "source": []
  }
 ],
 "metadata": {
  "kernelspec": {
   "display_name": "Python 3",
   "language": "python",
   "name": "python3"
  },
  "language_info": {
   "codemirror_mode": {
    "name": "ipython",
    "version": 3
   },
   "file_extension": ".py",
   "mimetype": "text/x-python",
   "name": "python",
   "nbconvert_exporter": "python",
   "pygments_lexer": "ipython3",
   "version": "3.6.3"
  }
 },
 "nbformat": 4,
 "nbformat_minor": 2
}
