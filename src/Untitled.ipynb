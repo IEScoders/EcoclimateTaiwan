{
 "cells": [
  {
   "cell_type": "code",
   "execution_count": 45,
   "metadata": {
    "collapsed": true
   },
   "outputs": [],
   "source": [
    "from mpl_toolkits.basemap import Basemap\n",
    "import matplotlib.pyplot as plt\n",
    "import numpy as np\n",
    "import pandas as pd\n",
    "from pykrige.ok import OrdinaryKriging\n",
    "from pykrige.kriging_tools import write_asc_grid\n",
    "import pykrige.kriging_tools as kt\n",
    "import matplotlib.pyplot as plt\n",
    "from matplotlib.colors import LinearSegmentedColormap\n",
    "from matplotlib.patches import Path, PathPatch"
   ]
  },
  {
   "cell_type": "code",
   "execution_count": 38,
   "metadata": {},
   "outputs": [
    {
     "name": "stderr",
     "output_type": "stream",
     "text": [
      "/Users/nghianc/anaconda3/lib/python3.6/site-packages/ipykernel_launcher.py:69: RuntimeWarning: invalid value encountered in greater_equal\n"
     ]
    }
   ],
   "source": [
    "\n",
    "\n",
    "def get_mi(prec,sm):\n",
    "    shp = prec.shape\n",
    "    mi = np.zeros(shp,dtype=np.float)\n",
    "\n",
    "    for i in range(shp[0]):\n",
    "        m = prec[i]\n",
    "        if m < sm[0]:\n",
    "            mi_index = 0\n",
    "        elif m < sm[1]:\n",
    "            mi_index = (m - sm[0])/(sm[1] - sm[0])\n",
    "        elif m < sm[2]:\n",
    "            mi_index = 1.\n",
    "        elif m < sm[3]:\n",
    "            mi_index = (m - sm[3])/(sm[2] - sm[3])\n",
    "        else:\n",
    "            mi_index = 0.\n",
    "        mi[i] = mi_index\n",
    "\n",
    "    return mi\n",
    "\n",
    "def get_ti(td,tn,dv):\n",
    "    shp = td.shape\n",
    "    ti = np.zeros(shp,dtype=np.float)\n",
    "\n",
    "    for i in range(shp[0]):\n",
    "        hi_temp = td[i]\n",
    "        low_temp = tn[i]\n",
    "        dt = hi_temp - low_temp\n",
    "        if dt > 0:\n",
    "            iq = min( 1, 12 * max(0, hi_temp - dv[0]) ** 2 / dt / ((dv[1] - dv[0]) * 24))\n",
    "        else:\n",
    "            iq = np.nan\n",
    "        ih = min( 1 - ( max(0, hi_temp - dv[2]) / (dv[3] - dv[2])) , 1)\n",
    "        ti[i] = iq * ih\n",
    "    return ti\n",
    "\n",
    "def get_ei(path_to_rep,species,date):\n",
    "\n",
    "  path_to_data = path_to_rep + 'analysis/'\n",
    "\n",
    "  data_temp_max = pd.read_csv(path_to_data+'tmax.csv',encoding=\"UTF-8\")\n",
    "  data_temp_min = pd.read_csv(path_to_data+'tmin.csv',encoding=\"UTF-8\")\n",
    "  data_precp = pd.read_csv(path_to_data+'precp.csv',encoding=\"UTF-8\")\n",
    "  data_species = pd.read_csv(path_to_rep+'species.csv',encoding=\"UTF-8\")\n",
    "\n",
    "#  station_id = data_temp_max['id']\n",
    "  temp_max = data_temp_max[['name',date]]\n",
    "  temp_min = data_temp_min[['name',date]]\n",
    "  precp = data_precp[['name',date]]\n",
    "\n",
    "  ind = (data_species['scientific_name'] == species)\n",
    "  sm, dv = np.zeros(4), np.zeros(4)\n",
    "  for i in range(4):\n",
    "    key = 'sm_' + '%1.1d' % i\n",
    "    sm[i] =  data_species[key][ind]\n",
    "    key = 'dv_' + '%1.1d' % i\n",
    "    dv[i] =  data_species[key][ind]\n",
    "\n",
    "  raw_data = temp_max.merge(temp_min,left_on='name',right_on='name')\n",
    "  raw_data = raw_data.merge(precp,left_on='name',right_on='name')\n",
    "\n",
    "  param = {}\n",
    "  name = np.array(raw_data['name'])\n",
    "  tmax = np.array(raw_data[date+'_x'])\n",
    "  tmin = np.array(raw_data[date+'_y'])\n",
    "  precp = np.array(raw_data[date])\n",
    "  ind = (tmax>=-100) * (tmin>=-100) * (precp>=-100)\n",
    "\n",
    "  name = name[ind]\n",
    "  tmax = tmax[ind]\n",
    "  tmin = tmin[ind]\n",
    "  precp = precp[ind]\n",
    "\n",
    "  ei = np.zeros(name.shape[0])\n",
    "\n",
    "  ti = get_ti(tmax,tmin,dv)\n",
    "  mi = get_mi(precp,sm)\n",
    "\n",
    "  ei = ti * mi\n",
    "\n",
    "#  for i in range(ei.shape[0]):\n",
    "#    print ('%s %6.2f %6.2f %6.2f' %(name[i],ei[i],tmax[i],precp[i]))\n",
    "\n",
    "  return name, ei\n",
    "\n",
    "def run_ei(path_to_rep,species,date):\n",
    "    name, ei = get_ei(path_to_rep,species,date)\n",
    "    sta = pd.read_csv(\"../CWB_Stations_171226.csv\")\n",
    "    sta = sta[['id','long','lat']]\n",
    "    eidt=pd.DataFrame(data={a:b for a,b in zip(name,ei)},index=['EI']).T\n",
    "    eidt = eidt.merge(sta, left_index=True, right_on='id')\n",
    "    return eidt\n",
    "\n",
    "\n",
    "\n",
    "def main():\n",
    "\n",
    "    date = '2017-12'\n",
    "    path_to_rep = \"../\"\n",
    "    species = 'solenopsis_invicta'\n",
    "\n",
    "    #            str         str      \n",
    "#    name, ei = get_ei(path_to_rep,species,date)\n",
    "    eidt = run_ei(path_to_rep,species,date)\n",
    "    return eidt\n",
    "\n",
    "\n",
    "if __name__ == '__main__':\n",
    "\n",
    "    eidt = main()\n"
   ]
  },
  {
   "cell_type": "code",
   "execution_count": 40,
   "metadata": {},
   "outputs": [
    {
     "data": {
      "text/html": [
       "<div>\n",
       "<style>\n",
       "    .dataframe thead tr:only-child th {\n",
       "        text-align: right;\n",
       "    }\n",
       "\n",
       "    .dataframe thead th {\n",
       "        text-align: left;\n",
       "    }\n",
       "\n",
       "    .dataframe tbody tr th {\n",
       "        vertical-align: top;\n",
       "    }\n",
       "</style>\n",
       "<table border=\"1\" class=\"dataframe\">\n",
       "  <thead>\n",
       "    <tr style=\"text-align: right;\">\n",
       "      <th></th>\n",
       "      <th>EI</th>\n",
       "      <th>id</th>\n",
       "      <th>long</th>\n",
       "      <th>lat</th>\n",
       "    </tr>\n",
       "  </thead>\n",
       "  <tbody>\n",
       "    <tr>\n",
       "      <th>1</th>\n",
       "      <td>1.000000</td>\n",
       "      <td>466880</td>\n",
       "      <td>121.4420</td>\n",
       "      <td>24.9976</td>\n",
       "    </tr>\n",
       "    <tr>\n",
       "      <th>2</th>\n",
       "      <td>0.636364</td>\n",
       "      <td>466900</td>\n",
       "      <td>121.4489</td>\n",
       "      <td>25.1649</td>\n",
       "    </tr>\n",
       "    <tr>\n",
       "      <th>3</th>\n",
       "      <td>0.000000</td>\n",
       "      <td>466910</td>\n",
       "      <td>121.5297</td>\n",
       "      <td>25.1826</td>\n",
       "    </tr>\n",
       "    <tr>\n",
       "      <th>4</th>\n",
       "      <td>1.000000</td>\n",
       "      <td>466920</td>\n",
       "      <td>121.5149</td>\n",
       "      <td>25.0377</td>\n",
       "    </tr>\n",
       "    <tr>\n",
       "      <th>5</th>\n",
       "      <td>0.000000</td>\n",
       "      <td>466930</td>\n",
       "      <td>121.5445</td>\n",
       "      <td>25.1621</td>\n",
       "    </tr>\n",
       "  </tbody>\n",
       "</table>\n",
       "</div>"
      ],
      "text/plain": [
       "         EI      id      long      lat\n",
       "1  1.000000  466880  121.4420  24.9976\n",
       "2  0.636364  466900  121.4489  25.1649\n",
       "3  0.000000  466910  121.5297  25.1826\n",
       "4  1.000000  466920  121.5149  25.0377\n",
       "5  0.000000  466930  121.5445  25.1621"
      ]
     },
     "execution_count": 40,
     "metadata": {},
     "output_type": "execute_result"
    }
   ],
   "source": [
    "eidt.head()"
   ]
  },
  {
   "cell_type": "code",
   "execution_count": 26,
   "metadata": {},
   "outputs": [],
   "source": [
    "sta = pd.read_csv(\"../CWB_Stations_171226.csv\")\n",
    "sta = sta[['id','long','lat']]\n",
    "eidt=pd.DataFrame(data={a:b for a,b in zip(name,ei)},index=['EI']).T"
   ]
  },
  {
   "cell_type": "code",
   "execution_count": 85,
   "metadata": {
    "collapsed": true
   },
   "outputs": [],
   "source": [
    "def plot_ei(df):\n",
    "    df = df.dropna(axis = 0, how=\"any\")\n",
    "    lons = np.array(df.long)\n",
    "    lats = np.array(df.lat)\n",
    "    data = np.array(df.EI)\n",
    "    grid_space = 0.1\n",
    "    grid_lon = np.arange(lons.min()-0.05, lons.max()+0.1, grid_space) \n",
    "    grid_lat = np.arange(lats.min()-0.05, lats.max()+0.1, grid_space)\n",
    "    OK = OrdinaryKriging(lons, lats, data, variogram_model='gaussian', verbose=True, enable_plotting=False,nlags=20)\n",
    "    z1, ss1 = OK.execute('grid', grid_lon, grid_lat)\n",
    "    xintrp, yintrp = np.meshgrid(grid_lon, grid_lat)\n",
    "    \n",
    "    ind = (z1>1)\n",
    "    z1[ind] = 1\n",
    "    ind = (z1<0)\n",
    "    z1[ind] = 0\n",
    "    \n",
    "    fig, ax = plt.subplots(figsize=(10,10))\n",
    "    m = Basemap(llcrnrlon=119.5,llcrnrlat=21.5,\n",
    "                urcrnrlon=122.5,urcrnrlat=26, projection='merc', \n",
    "                resolution='l',area_thresh=1000.,ax=ax)\n",
    "    m.drawcoastlines() #draw coastlines on the map\n",
    "    x,y=m(xintrp,yintrp)\n",
    "    lo,la = m(lons,lats)\n",
    "    cs = ax.contourf(x,y,z1,\n",
    "                       cmap=\"rainbow\",\n",
    "                       levels = np.linspace(0,1,10))\n",
    "    #cs = ax.scatter(lo,la,c=data,cmap=\"rainbow\")\n",
    "    ax.scatter(lo,la,c=data,cmap=\"rainbow\",vmin=0,vmax=1,edgecolor=\"k\")\n",
    "    cbar=m.colorbar(cs,location='right') #plot the colorbar on the map\n",
    "    parallels = np.arange(21.5,26.0,1)\n",
    "    m.drawparallels(parallels,labels=[1,0,0,0],fontsize=14, linewidth=0.0) #Draw the latitude labels on the map\n",
    "    meridians = np.arange(119.5,123.5,1)\n",
    "    m.drawmeridians(meridians,labels=[0,0,0,1],fontsize=14, linewidth=0.0)\n",
    "\n",
    "    x0,x1 = ax.get_xlim()\n",
    "    y0,y1 = ax.get_ylim()\n",
    "    map_edges = np.array([[x0,y0],[x1,y0],[x1,y1],[x0,y1]])\n",
    "    polys = [p.boundary for p in m.landpolygons]\n",
    "    polys = [map_edges]+polys[:]\n",
    "    codes = [\n",
    "    [Path.MOVETO]+[Path.LINETO for p in p[1:]]\n",
    "    for p in polys\n",
    "    ]\n",
    "\n",
    "    polys_lin = [v for p in polys for v in p]\n",
    "    codes_lin = [c for cs in codes for c in cs]\n",
    "\n",
    "    path = Path(polys_lin, codes_lin)\n",
    "    patch = PathPatch(path,facecolor='white', lw=0)\n",
    "    ax.add_patch(patch)\n",
    "    plt.show()    \n",
    "    return xintrp,yintrp,z1"
   ]
  },
  {
   "cell_type": "code",
   "execution_count": 86,
   "metadata": {},
   "outputs": [
    {
     "name": "stdout",
     "output_type": "stream",
     "text": [
      "Adjusting data for anisotropy...\n",
      "Initializing variogram model...\n",
      "Coordinates type: 'euclidean' \n",
      "\n",
      "Using 'gaussian' Variogram Model\n",
      "Partial Sill: 0.15840664699\n",
      "Full Sill: 0.158406649332\n",
      "Range: 0.225992818234\n",
      "Nugget: 2.34138683696e-09 \n",
      "\n",
      "Calculating statistics on variogram model fit...\n",
      "Executing Ordinary Kriging...\n",
      "\n"
     ]
    },
    {
     "data": {
      "image/png": "[encoded data removed]",
      "text/plain": [
       "<Figure size 720x720 with 2 Axes>"
      ]
     },
     "metadata": {},
     "output_type": "display_data"
    }
   ],
   "source": [
    "x,y,z1 = plot_ei(eidt)"
   ]
  },
  {
   "cell_type": "code",
   "execution_count": 68,
   "metadata": {},
   "outputs": [
    {
     "data": {
      "text/plain": [
       "(44, 24)"
      ]
     },
     "execution_count": 68,
     "metadata": {},
     "output_type": "execute_result"
    }
   ],
   "source": [
    "for i in range"
   ]
  },
  {
   "cell_type": "code",
   "execution_count": 83,
   "metadata": {},
   "outputs": [],
   "source": [
    "ind = (z1>1)\n",
    "z1[ind] = 1"
   ]
  },
  {
   "cell_type": "code",
   "execution_count": 84,
   "metadata": {},
   "outputs": [
    {
     "data": {
      "text/plain": [
       "masked_array(data =\n",
       " [[0.04842390147239535 0.04842390147239527 0.04842390147165748 ...,\n",
       "  0.04842342595354582 0.048423899673482027 0.048423901482567006]\n",
       " [0.04842390147239535 0.04842390147239527 0.048423901470470175 ...,\n",
       "  0.048422478449260606 0.04842389611841342 0.04842390147129111]\n",
       " [0.04842390147239535 0.04842390147239527 0.04842390147140206 ...,\n",
       "  0.0484226179063163 0.04842389664035171 0.048423901497300775]\n",
       " ..., \n",
       " [0.04800526951198475 0.04800526951198475 0.04829771981970807 ...,\n",
       "  0.04857017173097808 0.04871123529783597 0.048594031654336754]\n",
       " [0.0465784326388092 0.0465784326388092 0.04786765080431765 ...,\n",
       "  0.04842487905612876 0.048425821799201664 0.04842503851385249]\n",
       " [0.04597176358562539 0.04597176358562539 0.047684792071284066 ...,\n",
       "  0.04842390345600399 0.048423905363553676 0.04842390380102436]],\n",
       "             mask =\n",
       " [[False False False ..., False False False]\n",
       " [False False False ..., False False False]\n",
       " [False False False ..., False False False]\n",
       " ..., \n",
       " [False False False ..., False False False]\n",
       " [False False False ..., False False False]\n",
       " [False False False ..., False False False]],\n",
       "       fill_value = 1e+20)"
      ]
     },
     "execution_count": 84,
     "metadata": {},
     "output_type": "execute_result"
    }
   ],
   "source": [
    "z1"
   ]
  },
  {
   "cell_type": "code",
   "execution_count": null,
   "metadata": {
    "collapsed": true
   },
   "outputs": [],
   "source": []
  }
 ],
 "metadata": {
  "kernelspec": {
   "display_name": "Python 3",
   "language": "python",
   "name": "python3"
  },
  "language_info": {
   "codemirror_mode": {
    "name": "ipython",
    "version": 3
   },
   "file_extension": ".py",
   "mimetype": "text/x-python",
   "name": "python",
   "nbconvert_exporter": "python",
   "pygments_lexer": "ipython3",
   "version": "3.6.3"
  }
 },
 "nbformat": 4,
 "nbformat_minor": 2
}
